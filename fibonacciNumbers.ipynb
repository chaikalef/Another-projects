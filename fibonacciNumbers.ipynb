{
 "cells": [
  {
   "cell_type": "code",
   "execution_count": 12,
   "metadata": {},
   "outputs": [
    {
     "name": "stdout",
     "output_type": "stream",
     "text": [
      "Enter number: 6\n",
      "6! = 8\n"
     ]
    }
   ],
   "source": [
    "inNum = int(input(\"Enter number: \"))\n",
    "\n",
    "def fib(num):\n",
    "    if (num == 2) | (num == 1):\n",
    "        return 1\n",
    "    elif num <= 0:\n",
    "        return 0\n",
    "    else:\n",
    "        return fib(num - 1) + fib(num - 2)\n",
    "\n",
    "print(str(inNum) + \"! = \" + str(fib(inNum)))"
   ]
  }
 ],
 "metadata": {
  "kernelspec": {
   "display_name": "Python 3",
   "language": "python",
   "name": "python3"
  },
  "language_info": {
   "codemirror_mode": {
    "name": "ipython",
    "version": 3
   },
   "file_extension": ".py",
   "mimetype": "text/x-python",
   "name": "python",
   "nbconvert_exporter": "python",
   "pygments_lexer": "ipython3",
   "version": "3.6.3"
  }
 },
 "nbformat": 4,
 "nbformat_minor": 2
}
